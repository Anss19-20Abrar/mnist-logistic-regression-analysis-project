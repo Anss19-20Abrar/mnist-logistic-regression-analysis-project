{
 "cells": [
  {
   "cell_type": "markdown",
   "id": "0344b843",
   "metadata": {},
   "source": [
    "CS4412: Data Mining  \n",
    "Summer 2023  \n",
    "Kennesaw State University  \n",
    "**Homework 3**\n",
    "\n",
    "In this project, we will explore the MNIST handwritten digits\n",
    "dataset, available at:  \n",
    "  http://yann.lecun.com/exdb/mnist/\n",
    "\n",
    "The dataset included in this project was originally downloaded using TensorFlow:  \n",
    "  https://www.tensorflow.org/datasets/catalog/mnist"
   ]
  },
  {
   "cell_type": "code",
   "execution_count": 1,
   "id": "bb30ef9d",
   "metadata": {},
   "outputs": [],
   "source": [
    "# install numpy and scikit-learn, if needed\n",
    "import numpy as np\n",
    "from sklearn.linear_model import LogisticRegression\n",
    "# I included a helper module for the project, for loading MNIST\n",
    "from mnist import Mnist"
   ]
  },
  {
   "cell_type": "code",
   "execution_count": 2,
   "id": "8a51b04f",
   "metadata": {},
   "outputs": [],
   "source": [
    "# load the training dataset (used to train/learn the logistic regression model)\n",
    "dataset = Mnist(\"train\")\n",
    "# load the testing dataset (used to test/evaluate the logistic regression model)\n",
    "test_dataset = Mnist(\"test\")"
   ]
  },
  {
   "cell_type": "markdown",
   "id": "2e2a24dc",
   "metadata": {},
   "source": [
    "MNIST is a dataset of handwritten image.\n",
    "\n",
    "The dataset contains 55,000 images, and each image has 28x28 = 784 pixels.\n",
    "\n",
    "For the purposes of this project, we are dealing with pure black and white images (not grayscale).\n",
    "\n",
    "Below, we plot three example digits from the dataset."
   ]
  },
  {
   "cell_type": "code",
   "execution_count": 3,
   "id": "ad93e6cf",
   "metadata": {},
   "outputs": [
    {
     "data": {
      "image/png": "[encoded data removed]",
      "text/plain": [
       "<Figure size 432x288 with 1 Axes>"
      ]
     },
     "metadata": {
      "needs_background": "light"
     },
     "output_type": "display_data"
    },
    {
     "data": {
      "image/png": "[encoded data removed]",
      "text/plain": [
       "<Figure size 432x288 with 1 Axes>"
      ]
     },
     "metadata": {
      "needs_background": "light"
     },
     "output_type": "display_data"
    },
    {
     "data": {
      "image/png": "[encoded data removed]",
      "text/plain": [
       "<Figure size 432x288 with 1 Axes>"
      ]
     },
     "metadata": {
      "needs_background": "light"
     },
     "output_type": "display_data"
    }
   ],
   "source": [
    "# plot images with index 100, index 101 and index 102\n",
    "for image in dataset.images()[1000:1003]:\n",
    "    dataset.plot_image(image)"
   ]
  },
  {
   "cell_type": "markdown",
   "id": "7dfb4b04",
   "metadata": {},
   "source": [
    "We will consider classification between two different digits at a time (this is simpler, and will help us try to understand how logistic regression works better).  First, we shall extract all images of ones and twos."
   ]
  },
  {
   "cell_type": "code",
   "execution_count": 4,
   "id": "29ddfb48",
   "metadata": {},
   "outputs": [],
   "source": [
    "# pick two digits to compare\n",
    "# the first class is the negative label, the second class is the positive label\n",
    "class_neg,class_pos = 1,7\n",
    "# get all images/labels of the above two digits\n",
    "images,labels = dataset.image_labels_of_digits([class_neg,class_pos])\n",
    "# convert the labels from (1/7) to (0/1) (or True/False), for logistic regression\n",
    "labels = labels == class_pos\n",
    "\n",
    "# get all images/labels of the two digits from the test dataset\n",
    "test_images,test_labels = test_dataset.image_labels_of_digits([class_neg,class_pos])\n",
    "test_labels = test_labels == class_pos"
   ]
  },
  {
   "cell_type": "markdown",
   "id": "67ce8002",
   "metadata": {},
   "source": [
    "We will initialize a logistic regression model, and learn its parameters from the images and the labels, using the call to \"fit\".  Below we print the resulting accuracy of the model, based on the dataset that we used to train it."
   ]
  },
  {
   "cell_type": "code",
   "execution_count": 5,
   "id": "8be2cb6d",
   "metadata": {},
   "outputs": [
    {
     "name": "stdout",
     "output_type": "stream",
     "text": [
      "(1 vs 7) accuracy 99.3990% (2150/2163)\n"
     ]
    }
   ],
   "source": [
    "# learn the classifier from data\n",
    "classifier = LogisticRegression(max_iter=1000)\n",
    "classifier.fit(images,labels)\n",
    "# use the classifier to predict the labels of the training set, and then compute the accuracy\n",
    "predictions = classifier.predict(test_images)\n",
    "correct = sum(predictions == test_labels)\n",
    "print(\"(%d vs %d) accuracy %.4f%% (%d/%d)\" % (class_neg,class_pos,\n",
    "                                              100*correct/len(test_images),\n",
    "                                              correct,len(test_images)))"
   ]
  },
  {
   "cell_type": "markdown",
   "id": "8af6bd8d",
   "metadata": {},
   "source": [
    "Let $\\mathbf{x}$ be an image, represented as a vector of 784 input pixels, where $x_i$ denotes the $i$-th pixel.\n",
    "\n",
    "Our logistic regression model has a weight vector $\\mathbf{w}$ composed of weights $w_i,$ one for each pixel $x_i.$ We also have a bias $b$; these weights are learned from a dataset.\n",
    "\n",
    "Once we have learned the weights, our logistic regression model predicts the probability that a new input image $\\mathbf{x}$ has a positive label or a negative label.  This probability is computed using the following formula:\n",
    "\n",
    "$$\n",
    "\\Pr(\\mathrm{positive}) = \\sigma( w_1 x_1 + \\dots + w_n x_n + b )\n",
    "= \\sigma( \\textbf{w}^T \\textbf{x} + b )\n",
    "$$\n",
    "where\n",
    "$$\n",
    "\\sigma(x) = \\frac{1}{1+\\exp\\{-x\\}}\n",
    "$$\n",
    "is the logistic (or sigmoid) function.  Remember that the logistic function maps a number from negative infinity to positive infinity.  So the more positive that $x$ is, the closer to one that $\\sigma(x)$ is, and the more negative that $x$ is, the closer to zero that $\\sigma(x)$ is."
   ]
  },
  {
   "cell_type": "code",
   "execution_count": 6,
   "id": "2369c913",
   "metadata": {},
   "outputs": [],
   "source": [
    "sigmoid = lambda x: 1.0/(1.0+np.exp(-x)) # the logistic function\n",
    "w = classifier.coef_.T    # weights that we learned from data\n",
    "b = classifier.intercept_ # bias that we learned from data"
   ]
  },
  {
   "cell_type": "code",
   "execution_count": 7,
   "id": "17611c22",
   "metadata": {},
   "outputs": [
    {
     "data": {
      "image/png": "[encoded data removed]",
      "text/plain": [
       "<Figure size 432x288 with 1 Axes>"
      ]
     },
     "metadata": {
      "needs_background": "light"
     },
     "output_type": "display_data"
    },
    {
     "name": "stdout",
     "output_type": "stream",
     "text": [
      "probability in classifier: Pr(digit-1) = 0.997212, Pr(digit-7) = 0.002788\n",
      "probability we calculated: Pr(digit-1) = 0.997212, Pr(digit-7) = 0.002788\n"
     ]
    }
   ],
   "source": [
    "# below, we pick an image, and print out the probability of being class_a vs class_b, as computed by:\n",
    "#\n",
    "#   (a) the model\n",
    "#   (b) manually by ourselves, using the weights and bias that we fetched above\n",
    "#\n",
    "# to verify that the computations are the same (this is just a sanity check).\n",
    "x = test_images[2]\n",
    "dataset.plot_image(x)\n",
    "pr_classifier = classifier.predict_proba([x])[0]\n",
    "pr_manual = sigmoid( w.T@x + b )\n",
    "print(\"probability in classifier: Pr(digit-%d) = %.6f, Pr(digit-%d) = %.6f\" % (class_neg,pr_classifier[0],class_pos,pr_classifier[1]))\n",
    "print(\"probability we calculated: Pr(digit-%d) = %.6f, Pr(digit-%d) = %.6f\" % (class_neg,1.0-pr_manual,class_pos,pr_manual))"
   ]
  },
  {
   "cell_type": "markdown",
   "id": "add9012e",
   "metadata": {},
   "source": [
    "Below, we visualize the weights $\\textbf{w}$ of our linear regression model.\n",
    "\n",
    "Remember that the positive weights in the logistic regression will push the model right (towards a positive label), and that the negative weights will push the model left (towards a negative label).  Weights that are close to zero correspond to inputs that do not affect the output much.\n",
    "\n",
    "Below, the red pixels correspond to positive weights, and the blue pixels correspond to negative weights.  White pixels have a value close to zero."
   ]
  },
  {
   "cell_type": "code",
   "execution_count": 8,
   "id": "5b8d9ffb",
   "metadata": {},
   "outputs": [
    {
     "data": {
      "image/png": "[encoded data removed]",
      "text/plain": [
       "<Figure size 432x288 with 1 Axes>"
      ]
     },
     "metadata": {
      "needs_background": "light"
     },
     "output_type": "display_data"
    }
   ],
   "source": [
    "# plot the probability of a pixel being white, given the image was of a zero\n",
    "limit = max(abs(w))\n",
    "weight_image = w\n",
    "dataset.plot_image(weight_image,cmap=\"bwr\",limit=limit)"
   ]
  },
  {
   "cell_type": "markdown",
   "id": "b7683653",
   "metadata": {},
   "source": [
    "Next, we look for the image that had the highest probability of being labeled positively (as a digit seven), and then overlay it on the above image, to see why it was classified as a positive label."
   ]
  },
  {
   "cell_type": "code",
   "execution_count": 9,
   "id": "3ff93a68",
   "metadata": {},
   "outputs": [
    {
     "data": {
      "image/png": "[encoded data removed]",
      "text/plain": [
       "<Figure size 432x288 with 1 Axes>"
      ]
     },
     "metadata": {
      "needs_background": "light"
     },
     "output_type": "display_data"
    },
    {
     "data": {
      "image/png": "[encoded data removed]",
      "text/plain": [
       "<Figure size 432x288 with 1 Axes>"
      ]
     },
     "metadata": {
      "needs_background": "light"
     },
     "output_type": "display_data"
    }
   ],
   "source": [
    "pr = classifier.predict_proba(test_images)\n",
    "diff_pr = pr[:,1]-pr[:,0]\n",
    "max_index = np.argmax(diff_pr)\n",
    "image,label = test_images[max_index],test_labels[max_index]\n",
    "dataset.plot_image(image)\n",
    "dataset.plot_image(weight_image,cmap=\"bwr\",limit=limit,second=image)"
   ]
  },
  {
   "cell_type": "markdown",
   "id": "de4ff320",
   "metadata": {},
   "source": [
    "When we overlay the image of the two onto the red/blue image.  Note that since our inputs (the pixels) are either black (with value 0) or white (with value 1).  Hence, the black pixels contribute zero weight in the logistic regression model (in the summation, inside the logistic function).  Thus, the aggregate sum of the weights of the white pixels determine the output of the logistic regression model.\n",
    "\n",
    "In this case, we see that the white pixels of the digit seven hit a lot more red pixels than they do blue pixels.\n",
    "\n",
    "We can do the same for the image that had the highest probability of being a negative label (a digit one), next."
   ]
  },
  {
   "cell_type": "code",
   "execution_count": 10,
   "id": "37b206a9",
   "metadata": {},
   "outputs": [
    {
     "data": {
      "image/png": "[encoded data removed]",
      "text/plain": [
       "<Figure size 432x288 with 1 Axes>"
      ]
     },
     "metadata": {
      "needs_background": "light"
     },
     "output_type": "display_data"
    },
    {
     "data": {
      "image/png": "[encoded data removed]",
      "text/plain": [
       "<Figure size 432x288 with 1 Axes>"
      ]
     },
     "metadata": {
      "needs_background": "light"
     },
     "output_type": "display_data"
    }
   ],
   "source": [
    "min_index = np.argmin(diff_pr)\n",
    "image,label = test_images[min_index],test_labels[min_index]\n",
    "dataset.plot_image(image)\n",
    "dataset.plot_image(weight_image,cmap=\"bwr\",limit=limit,second=image)"
   ]
  },
  {
   "cell_type": "markdown",
   "id": "7960c90b",
   "metadata": {},
   "source": [
    "In this case, the white pixels of the digit one hit more blue pixels than red pixels.\n",
    "\n",
    "In general, for logistic regression, the more red pixels an image hits the more likely the image will be labeled positively (as a digit seven, in this case).  The more blue pixels an image hits, the more likely the image will be labeled negatively (as a digit one, in this case)."
   ]
  },
  {
   "cell_type": "markdown",
   "id": "6e1b4c1a",
   "metadata": {},
   "source": [
    "Answer the following questions about this logistic regression model learned from the given dataset.\n",
    "\n",
    "1. Some images that were labeled as a digit seven in the training set were misclassified as being a digit one by the classifier.  Find the image of a seven that had the highest probability of being a one (include a picture).  Explain why the digit was classified as a one instead of as a seven (include a visualization, like we did above).\n",
    "\n",
    "2. Some images that were labeled as a digit one in the training set were misclassified as being a digit seven by the classifier.  Find the image of a one that had the highest probability of being a seven (include a picture).  Explain why the digit was classified as a seven instead of as a one (include a visualization, like we did above).\n",
    "\n",
    "3. Train another logistic regression model using any other pair of digits $i$ and $j$, besides $1$ and $7$.  Provide a single example of a digit labeled $i$ being misclassified as $j$, with a visualization of why it was misclassified (like we did above).  (Note that this is only possible if some image of a digit was misclassified, i.e., if it did not get 100% accuracy.)"
   ]
  },
  {
   "cell_type": "markdown",
   "id": "f046ab39",
   "metadata": {},
   "source": [
    "**Turn in** a pdf containing the answers to the above questions onto the course website under *Assignments* and *Homework 3.*  Assignments are due Friday, June 23 by 11:59pm.  Please start early in case you encounter any unexpected difficulties."
   ]
  },
  {
   "cell_type": "code",
   "execution_count": null,
   "id": "92390beb",
   "metadata": {},
   "outputs": [],
   "source": []
  }
 ],
 "metadata": {
  "kernelspec": {
   "display_name": "Python 3 (ipykernel)",
   "language": "python",
   "name": "python3"
  },
  "language_info": {
   "codemirror_mode": {
    "name": "ipython",
    "version": 3
   },
   "file_extension": ".py",
   "mimetype": "text/x-python",
   "name": "python",
   "nbconvert_exporter": "python",
   "pygments_lexer": "ipython3",
   "version": "3.7.4"
  }
 },
 "nbformat": 4,
 "nbformat_minor": 5
}
